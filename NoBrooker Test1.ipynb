{
 "cells": [
  {
   "cell_type": "markdown",
   "id": "9a24aafb",
   "metadata": {},
   "source": [
    "## Problem statement 1"
   ]
  },
  {
   "cell_type": "markdown",
   "id": "57df1154",
   "metadata": {},
   "source": [
    "Create a chart of Manager Name and number of reportees of the below data."
   ]
  },
  {
   "cell_type": "markdown",
   "id": "74376601",
   "metadata": {},
   "source": [
    "Output format: "
   ]
  },
  {
   "cell_type": "markdown",
   "id": "a7a1c526",
   "metadata": {},
   "source": [
    "Python line chart between manager name and no of reportees and share the code.\n",
    "Please use best judgement and fill any gaps in data if needed and provide reasoning for the same"
   ]
  },
  {
   "cell_type": "markdown",
   "id": "2acad4ee",
   "metadata": {},
   "source": [
    "### Solution "
   ]
  },
  {
   "cell_type": "markdown",
   "id": "b5afaabb",
   "metadata": {},
   "source": [
    "Since the data is served in format which cannot be itrrated by python or any other language, we will first construct a data frame based on the data."
   ]
  },
  {
   "cell_type": "code",
   "execution_count": 3,
   "id": "0abeb7f9",
   "metadata": {},
   "outputs": [],
   "source": [
    "# Importing pandas as this python library will help in constructing the data frame. \n",
    "# Alias used for Pandas will be 'pd'.\n",
    "\n",
    "import pandas as pd"
   ]
  },
  {
   "cell_type": "code",
   "execution_count": 6,
   "id": "06a24ca1",
   "metadata": {},
   "outputs": [],
   "source": [
    "# Now creating dataframe using list and pandas\n",
    "\n",
    "data = [{'Emp ID' : 1, 'Manager\\'s Emp ID' : 7, 'Employee name' : 'a'}, \n",
    "        {'Emp ID' : 2, 'Manager\\'s Emp ID' : 7, 'Employee name' : 'c'}, \n",
    "        {'Emp ID' : 3, 'Manager\\'s Emp ID' : 7, 'Employee name' : 'c'}, \n",
    "        {'Emp ID' : 4, 'Manager\\'s Emp ID' : 8, 'Employee name' : 'd'}, \n",
    "        {'Emp ID' : 5, 'Manager\\'s Emp ID' : 8, 'Employee name' : 'e'}, \n",
    "        {'Emp ID' : 6, 'Manager\\'s Emp ID' : 8, 'Employee name' : 'f'}, \n",
    "        {'Emp ID' : 7, 'Manager\\'s Emp ID' : 9, 'Employee name' : 'g'}, \n",
    "        {'Emp ID' : 8, 'Employee name' : 'h'}, \n",
    "        {'Emp ID' : 9, 'Employee name' : 'i'}, \n",
    "        {'Emp ID' : 10, 'Manager\\'s Emp ID' : 9, 'Employee name' : 'j'}, \n",
    "        {'Emp ID' : 11, 'Manager\\'s Emp ID' : 9, 'Employee name' : 'k'}, \n",
    "        {'Emp ID' : 12, 'Manager\\'s Emp ID' : 9, 'Employee name' : 'l'}]"
   ]
  },
  {
   "cell_type": "code",
   "execution_count": 7,
   "id": "9cdca075",
   "metadata": {},
   "outputs": [],
   "source": [
    "raw_data = pd.DataFrame(data = data)"
   ]
  },
  {
   "cell_type": "code",
   "execution_count": 9,
   "id": "9ca98775",
   "metadata": {},
   "outputs": [
    {
     "data": {
      "text/html": [
       "<div>\n",
       "<style scoped>\n",
       "    .dataframe tbody tr th:only-of-type {\n",
       "        vertical-align: middle;\n",
       "    }\n",
       "\n",
       "    .dataframe tbody tr th {\n",
       "        vertical-align: top;\n",
       "    }\n",
       "\n",
       "    .dataframe thead th {\n",
       "        text-align: right;\n",
       "    }\n",
       "</style>\n",
       "<table border=\"1\" class=\"dataframe\">\n",
       "  <thead>\n",
       "    <tr style=\"text-align: right;\">\n",
       "      <th></th>\n",
       "      <th>Emp ID</th>\n",
       "      <th>Manager's Emp ID</th>\n",
       "      <th>Employee name</th>\n",
       "    </tr>\n",
       "  </thead>\n",
       "  <tbody>\n",
       "    <tr>\n",
       "      <th>0</th>\n",
       "      <td>1</td>\n",
       "      <td>7.0</td>\n",
       "      <td>a</td>\n",
       "    </tr>\n",
       "    <tr>\n",
       "      <th>1</th>\n",
       "      <td>2</td>\n",
       "      <td>7.0</td>\n",
       "      <td>c</td>\n",
       "    </tr>\n",
       "    <tr>\n",
       "      <th>2</th>\n",
       "      <td>3</td>\n",
       "      <td>7.0</td>\n",
       "      <td>c</td>\n",
       "    </tr>\n",
       "    <tr>\n",
       "      <th>3</th>\n",
       "      <td>4</td>\n",
       "      <td>8.0</td>\n",
       "      <td>d</td>\n",
       "    </tr>\n",
       "    <tr>\n",
       "      <th>4</th>\n",
       "      <td>5</td>\n",
       "      <td>8.0</td>\n",
       "      <td>e</td>\n",
       "    </tr>\n",
       "    <tr>\n",
       "      <th>5</th>\n",
       "      <td>6</td>\n",
       "      <td>8.0</td>\n",
       "      <td>f</td>\n",
       "    </tr>\n",
       "    <tr>\n",
       "      <th>6</th>\n",
       "      <td>7</td>\n",
       "      <td>9.0</td>\n",
       "      <td>g</td>\n",
       "    </tr>\n",
       "    <tr>\n",
       "      <th>7</th>\n",
       "      <td>8</td>\n",
       "      <td>NaN</td>\n",
       "      <td>h</td>\n",
       "    </tr>\n",
       "    <tr>\n",
       "      <th>8</th>\n",
       "      <td>9</td>\n",
       "      <td>NaN</td>\n",
       "      <td>i</td>\n",
       "    </tr>\n",
       "    <tr>\n",
       "      <th>9</th>\n",
       "      <td>10</td>\n",
       "      <td>9.0</td>\n",
       "      <td>j</td>\n",
       "    </tr>\n",
       "  </tbody>\n",
       "</table>\n",
       "</div>"
      ],
      "text/plain": [
       "   Emp ID  Manager's Emp ID Employee name\n",
       "0       1               7.0             a\n",
       "1       2               7.0             c\n",
       "2       3               7.0             c\n",
       "3       4               8.0             d\n",
       "4       5               8.0             e\n",
       "5       6               8.0             f\n",
       "6       7               9.0             g\n",
       "7       8               NaN             h\n",
       "8       9               NaN             i\n",
       "9      10               9.0             j"
      ]
     },
     "execution_count": 9,
     "metadata": {},
     "output_type": "execute_result"
    }
   ],
   "source": [
    "# Viewing the top 10 data points\n",
    "\n",
    "raw_data.head(10)"
   ]
  },
  {
   "cell_type": "code",
   "execution_count": 10,
   "id": "0c105731",
   "metadata": {},
   "outputs": [
    {
     "name": "stdout",
     "output_type": "stream",
     "text": [
      "<class 'pandas.core.frame.DataFrame'>\n",
      "RangeIndex: 12 entries, 0 to 11\n",
      "Data columns (total 3 columns):\n",
      " #   Column            Non-Null Count  Dtype  \n",
      "---  ------            --------------  -----  \n",
      " 0   Emp ID            12 non-null     int64  \n",
      " 1   Manager's Emp ID  10 non-null     float64\n",
      " 2   Employee name     12 non-null     object \n",
      "dtypes: float64(1), int64(1), object(1)\n",
      "memory usage: 416.0+ bytes\n"
     ]
    }
   ],
   "source": [
    "raw_data.info()"
   ]
  },
  {
   "cell_type": "code",
   "execution_count": 11,
   "id": "e60407bb",
   "metadata": {},
   "outputs": [],
   "source": [
    "# Converting Manager's Emp ID to string data type.\n",
    "\n",
    "raw_data['Manager\\'s Emp ID'] = raw_data['Manager\\'s Emp ID'].astype(str)"
   ]
  },
  {
   "cell_type": "markdown",
   "id": "c6aef7d2",
   "metadata": {},
   "source": [
    "### Observation 1"
   ]
  },
  {
   "cell_type": "markdown",
   "id": "f3eb3602",
   "metadata": {},
   "source": [
    "From table we can draw following conclusions:"
   ]
  },
  {
   "cell_type": "markdown",
   "id": "e58dce50",
   "metadata": {},
   "source": [
    "1. Under Manager's Emp ID as 7, three employee are reporting i.e Emp ID 1, 2 & 3.\n",
    "2. Under Manager's Emp ID as 8, three employee are reporting i.e Emp ID 4, 5 & 6.\n",
    "3. Under Manager's Emp ID as 9, three employee are reporting i.e Emp ID 7 & 10.\n",
    "4. This means that Manager's Emp ID 9 is indrectly heading 1, 2 & 3 because Manager's Emp ID 7 comes under Manager's Emp ID 9.\n",
    "5. The NaN value at index 7 & 8 potriat that Manager's Emp ID 9 & 8 are in same hireachy and hence Manager's Emp ID at index 7 & 8 will be 8 & 9 respectively."
   ]
  },
  {
   "cell_type": "code",
   "execution_count": 13,
   "id": "5b809825",
   "metadata": {},
   "outputs": [],
   "source": [
    "# Currated raw data:\n",
    "\n",
    "currated_data = [{'Emp ID' : 1, 'Manager\\'s Emp ID' : 7, 'Employee name' : 'a'}, \n",
    "        {'Emp ID' : 2, 'Manager\\'s Emp ID' : 7, 'Employee name' : 'c'}, \n",
    "        {'Emp ID' : 3, 'Manager\\'s Emp ID' : 7, 'Employee name' : 'c'}, \n",
    "        {'Emp ID' : 4, 'Manager\\'s Emp ID' : 8, 'Employee name' : 'd'}, \n",
    "        {'Emp ID' : 5, 'Manager\\'s Emp ID' : 8, 'Employee name' : 'e'}, \n",
    "        {'Emp ID' : 6, 'Manager\\'s Emp ID' : 8, 'Employee name' : 'f'}, \n",
    "        {'Emp ID' : 7, 'Manager\\'s Emp ID' : 9, 'Employee name' : 'g'}, \n",
    "        {'Emp ID' : 8, 'Manager\\'s Emp ID' : 8, 'Employee name' : 'h'}, \n",
    "        {'Emp ID' : 9, 'Manager\\'s Emp ID' : 9, 'Employee name' : 'i'}, \n",
    "        {'Emp ID' : 10, 'Manager\\'s Emp ID' : 9, 'Employee name' : 'j'}, \n",
    "        {'Emp ID' : 11, 'Manager\\'s Emp ID' : 9, 'Employee name' : 'k'}, \n",
    "        {'Emp ID' : 12, 'Manager\\'s Emp ID' : 9, 'Employee name' : 'l'}]"
   ]
  },
  {
   "cell_type": "code",
   "execution_count": 14,
   "id": "aa923dfb",
   "metadata": {},
   "outputs": [],
   "source": [
    "currated_data = pd.DataFrame(data = currated_data)"
   ]
  },
  {
   "cell_type": "code",
   "execution_count": 15,
   "id": "8ad6fb9c",
   "metadata": {},
   "outputs": [
    {
     "data": {
      "text/html": [
       "<div>\n",
       "<style scoped>\n",
       "    .dataframe tbody tr th:only-of-type {\n",
       "        vertical-align: middle;\n",
       "    }\n",
       "\n",
       "    .dataframe tbody tr th {\n",
       "        vertical-align: top;\n",
       "    }\n",
       "\n",
       "    .dataframe thead th {\n",
       "        text-align: right;\n",
       "    }\n",
       "</style>\n",
       "<table border=\"1\" class=\"dataframe\">\n",
       "  <thead>\n",
       "    <tr style=\"text-align: right;\">\n",
       "      <th></th>\n",
       "      <th>Emp ID</th>\n",
       "      <th>Manager's Emp ID</th>\n",
       "      <th>Employee name</th>\n",
       "    </tr>\n",
       "  </thead>\n",
       "  <tbody>\n",
       "    <tr>\n",
       "      <th>0</th>\n",
       "      <td>1</td>\n",
       "      <td>7</td>\n",
       "      <td>a</td>\n",
       "    </tr>\n",
       "    <tr>\n",
       "      <th>1</th>\n",
       "      <td>2</td>\n",
       "      <td>7</td>\n",
       "      <td>c</td>\n",
       "    </tr>\n",
       "    <tr>\n",
       "      <th>2</th>\n",
       "      <td>3</td>\n",
       "      <td>7</td>\n",
       "      <td>c</td>\n",
       "    </tr>\n",
       "    <tr>\n",
       "      <th>3</th>\n",
       "      <td>4</td>\n",
       "      <td>8</td>\n",
       "      <td>d</td>\n",
       "    </tr>\n",
       "    <tr>\n",
       "      <th>4</th>\n",
       "      <td>5</td>\n",
       "      <td>8</td>\n",
       "      <td>e</td>\n",
       "    </tr>\n",
       "    <tr>\n",
       "      <th>5</th>\n",
       "      <td>6</td>\n",
       "      <td>8</td>\n",
       "      <td>f</td>\n",
       "    </tr>\n",
       "    <tr>\n",
       "      <th>6</th>\n",
       "      <td>7</td>\n",
       "      <td>9</td>\n",
       "      <td>g</td>\n",
       "    </tr>\n",
       "    <tr>\n",
       "      <th>7</th>\n",
       "      <td>8</td>\n",
       "      <td>8</td>\n",
       "      <td>h</td>\n",
       "    </tr>\n",
       "    <tr>\n",
       "      <th>8</th>\n",
       "      <td>9</td>\n",
       "      <td>9</td>\n",
       "      <td>i</td>\n",
       "    </tr>\n",
       "    <tr>\n",
       "      <th>9</th>\n",
       "      <td>10</td>\n",
       "      <td>9</td>\n",
       "      <td>j</td>\n",
       "    </tr>\n",
       "  </tbody>\n",
       "</table>\n",
       "</div>"
      ],
      "text/plain": [
       "   Emp ID  Manager's Emp ID Employee name\n",
       "0       1                 7             a\n",
       "1       2                 7             c\n",
       "2       3                 7             c\n",
       "3       4                 8             d\n",
       "4       5                 8             e\n",
       "5       6                 8             f\n",
       "6       7                 9             g\n",
       "7       8                 8             h\n",
       "8       9                 9             i\n",
       "9      10                 9             j"
      ]
     },
     "execution_count": 15,
     "metadata": {},
     "output_type": "execute_result"
    }
   ],
   "source": [
    "currated_data.head(10)"
   ]
  },
  {
   "cell_type": "code",
   "execution_count": 16,
   "id": "d47de8cc",
   "metadata": {},
   "outputs": [
    {
     "name": "stdout",
     "output_type": "stream",
     "text": [
      "<class 'pandas.core.frame.DataFrame'>\n",
      "RangeIndex: 12 entries, 0 to 11\n",
      "Data columns (total 3 columns):\n",
      " #   Column            Non-Null Count  Dtype \n",
      "---  ------            --------------  ----- \n",
      " 0   Emp ID            12 non-null     int64 \n",
      " 1   Manager's Emp ID  12 non-null     int64 \n",
      " 2   Employee name     12 non-null     object\n",
      "dtypes: int64(2), object(1)\n",
      "memory usage: 416.0+ bytes\n"
     ]
    }
   ],
   "source": [
    "currated_data.info()"
   ]
  },
  {
   "cell_type": "markdown",
   "id": "3c0bc9b8",
   "metadata": {},
   "source": [
    "### Observation 2"
   ]
  },
  {
   "cell_type": "markdown",
   "id": "5e015242",
   "metadata": {},
   "source": [
    "1. data_1 is for the count and represtation of direct and indirect reportees to their respective manager\n",
    "2. data_2 is for the count and represtation of only direct reportees to thier repespective manager.\n",
    "                            "
   ]
  },
  {
   "cell_type": "code",
   "execution_count": 50,
   "id": "4156a71d",
   "metadata": {},
   "outputs": [],
   "source": [
    "# Creating data frame of manager name and number of reportee.\n",
    "\n",
    "data_1 = [{'Manager Emp ID' : 1, 'Number of Reportee' : 0},\n",
    "          {'Manager Emp ID' : 2, 'Number of Reportee' : 0},\n",
    "          {'Manager Emp ID' : 3, 'Number of Reportee' : 0},\n",
    "          {'Manager Emp ID' : 4, 'Number of Reportee' : 0},\n",
    "          {'Manager Emp ID' : 5, 'Number of Reportee' : 0},\n",
    "          {'Manager Emp ID' : 6, 'Number of Reportee' : 0},\n",
    "          {'Manager Emp ID' : 7, 'Number of Reportee' : 3},\n",
    "          {'Manager Emp ID' : 8, 'Number of Reportee' : 3},\n",
    "          {'Manager Emp ID' : 9, 'Number of Reportee' : 4},\n",
    "          {'Manager Emp ID' : 10, 'Number of Reportee' : 0},\n",
    "          {'Manager Emp ID' : 11, 'Number of Reportee' : 0}]"
   ]
  },
  {
   "cell_type": "code",
   "execution_count": 51,
   "id": "bed599a9",
   "metadata": {},
   "outputs": [],
   "source": [
    "final_data_1 = pd.DataFrame(data = data_1)"
   ]
  },
  {
   "cell_type": "code",
   "execution_count": 52,
   "id": "48d52fd0",
   "metadata": {},
   "outputs": [
    {
     "data": {
      "text/html": [
       "<div>\n",
       "<style scoped>\n",
       "    .dataframe tbody tr th:only-of-type {\n",
       "        vertical-align: middle;\n",
       "    }\n",
       "\n",
       "    .dataframe tbody tr th {\n",
       "        vertical-align: top;\n",
       "    }\n",
       "\n",
       "    .dataframe thead th {\n",
       "        text-align: right;\n",
       "    }\n",
       "</style>\n",
       "<table border=\"1\" class=\"dataframe\">\n",
       "  <thead>\n",
       "    <tr style=\"text-align: right;\">\n",
       "      <th></th>\n",
       "      <th>Manager Emp ID</th>\n",
       "      <th>Number of Reportee</th>\n",
       "    </tr>\n",
       "  </thead>\n",
       "  <tbody>\n",
       "    <tr>\n",
       "      <th>0</th>\n",
       "      <td>1</td>\n",
       "      <td>0</td>\n",
       "    </tr>\n",
       "    <tr>\n",
       "      <th>1</th>\n",
       "      <td>2</td>\n",
       "      <td>0</td>\n",
       "    </tr>\n",
       "    <tr>\n",
       "      <th>2</th>\n",
       "      <td>3</td>\n",
       "      <td>0</td>\n",
       "    </tr>\n",
       "    <tr>\n",
       "      <th>3</th>\n",
       "      <td>4</td>\n",
       "      <td>0</td>\n",
       "    </tr>\n",
       "    <tr>\n",
       "      <th>4</th>\n",
       "      <td>5</td>\n",
       "      <td>0</td>\n",
       "    </tr>\n",
       "    <tr>\n",
       "      <th>5</th>\n",
       "      <td>6</td>\n",
       "      <td>0</td>\n",
       "    </tr>\n",
       "    <tr>\n",
       "      <th>6</th>\n",
       "      <td>7</td>\n",
       "      <td>3</td>\n",
       "    </tr>\n",
       "    <tr>\n",
       "      <th>7</th>\n",
       "      <td>8</td>\n",
       "      <td>3</td>\n",
       "    </tr>\n",
       "    <tr>\n",
       "      <th>8</th>\n",
       "      <td>9</td>\n",
       "      <td>4</td>\n",
       "    </tr>\n",
       "    <tr>\n",
       "      <th>9</th>\n",
       "      <td>10</td>\n",
       "      <td>0</td>\n",
       "    </tr>\n",
       "  </tbody>\n",
       "</table>\n",
       "</div>"
      ],
      "text/plain": [
       "   Manager Emp ID  Number of Reportee\n",
       "0               1                   0\n",
       "1               2                   0\n",
       "2               3                   0\n",
       "3               4                   0\n",
       "4               5                   0\n",
       "5               6                   0\n",
       "6               7                   3\n",
       "7               8                   3\n",
       "8               9                   4\n",
       "9              10                   0"
      ]
     },
     "execution_count": 52,
     "metadata": {},
     "output_type": "execute_result"
    }
   ],
   "source": [
    "final_data_1.head(10)"
   ]
  },
  {
   "cell_type": "code",
   "execution_count": 59,
   "id": "96626289",
   "metadata": {},
   "outputs": [],
   "source": [
    "data_2 = [{'Manager Emp ID' : 1, 'Number of Reportee' : 0},\n",
    "          {'Manager Emp ID' : 2, 'Number of Reportee' : 0},\n",
    "          {'Manager Emp ID' : 3, 'Number of Reportee' : 0},\n",
    "          {'Manager Emp ID' : 4, 'Number of Reportee' : 0},\n",
    "          {'Manager Emp ID' : 5, 'Number of Reportee' : 0},\n",
    "          {'Manager Emp ID' : 6, 'Number of Reportee' : 0},\n",
    "          {'Manager Emp ID' : 7, 'Number of Reportee' : 3},\n",
    "          {'Manager Emp ID' : 8, 'Number of Reportee' : 3},\n",
    "          {'Manager Emp ID' : 9, 'Number of Reportee' : 2},\n",
    "          {'Manager Emp ID' : 10, 'Number of Reportee' : 0},\n",
    "          {'Manager Emp ID' : 11, 'Number of Reportee' : 0}]"
   ]
  },
  {
   "cell_type": "code",
   "execution_count": 60,
   "id": "1ff6813e",
   "metadata": {},
   "outputs": [],
   "source": [
    "final_data_2 = pd.DataFrame(data = data_2)"
   ]
  },
  {
   "cell_type": "code",
   "execution_count": 61,
   "id": "fae2b748",
   "metadata": {},
   "outputs": [
    {
     "data": {
      "text/html": [
       "<div>\n",
       "<style scoped>\n",
       "    .dataframe tbody tr th:only-of-type {\n",
       "        vertical-align: middle;\n",
       "    }\n",
       "\n",
       "    .dataframe tbody tr th {\n",
       "        vertical-align: top;\n",
       "    }\n",
       "\n",
       "    .dataframe thead th {\n",
       "        text-align: right;\n",
       "    }\n",
       "</style>\n",
       "<table border=\"1\" class=\"dataframe\">\n",
       "  <thead>\n",
       "    <tr style=\"text-align: right;\">\n",
       "      <th></th>\n",
       "      <th>Manager Emp ID</th>\n",
       "      <th>Number of Reportee</th>\n",
       "    </tr>\n",
       "  </thead>\n",
       "  <tbody>\n",
       "    <tr>\n",
       "      <th>0</th>\n",
       "      <td>1</td>\n",
       "      <td>0</td>\n",
       "    </tr>\n",
       "    <tr>\n",
       "      <th>1</th>\n",
       "      <td>2</td>\n",
       "      <td>0</td>\n",
       "    </tr>\n",
       "    <tr>\n",
       "      <th>2</th>\n",
       "      <td>3</td>\n",
       "      <td>0</td>\n",
       "    </tr>\n",
       "    <tr>\n",
       "      <th>3</th>\n",
       "      <td>4</td>\n",
       "      <td>0</td>\n",
       "    </tr>\n",
       "    <tr>\n",
       "      <th>4</th>\n",
       "      <td>5</td>\n",
       "      <td>0</td>\n",
       "    </tr>\n",
       "    <tr>\n",
       "      <th>5</th>\n",
       "      <td>6</td>\n",
       "      <td>0</td>\n",
       "    </tr>\n",
       "    <tr>\n",
       "      <th>6</th>\n",
       "      <td>7</td>\n",
       "      <td>3</td>\n",
       "    </tr>\n",
       "    <tr>\n",
       "      <th>7</th>\n",
       "      <td>8</td>\n",
       "      <td>3</td>\n",
       "    </tr>\n",
       "    <tr>\n",
       "      <th>8</th>\n",
       "      <td>9</td>\n",
       "      <td>2</td>\n",
       "    </tr>\n",
       "    <tr>\n",
       "      <th>9</th>\n",
       "      <td>10</td>\n",
       "      <td>0</td>\n",
       "    </tr>\n",
       "  </tbody>\n",
       "</table>\n",
       "</div>"
      ],
      "text/plain": [
       "   Manager Emp ID  Number of Reportee\n",
       "0               1                   0\n",
       "1               2                   0\n",
       "2               3                   0\n",
       "3               4                   0\n",
       "4               5                   0\n",
       "5               6                   0\n",
       "6               7                   3\n",
       "7               8                   3\n",
       "8               9                   2\n",
       "9              10                   0"
      ]
     },
     "execution_count": 61,
     "metadata": {},
     "output_type": "execute_result"
    }
   ],
   "source": [
    "final_data_2.head(10)"
   ]
  },
  {
   "cell_type": "code",
   "execution_count": 53,
   "id": "d3ef1368",
   "metadata": {},
   "outputs": [],
   "source": [
    "# Now to visualise the data we will import seaborn and matplotlib library. For seaborn the alias will be sns and matplotlib the alis will be plt.\n",
    "\n",
    "import matplotlib.pyplot as plt\n",
    "import seaborn as sns"
   ]
  },
  {
   "cell_type": "markdown",
   "id": "ab5a587c",
   "metadata": {},
   "source": [
    "### Charts for data_1"
   ]
  },
  {
   "cell_type": "code",
   "execution_count": 54,
   "id": "1195da3e",
   "metadata": {},
   "outputs": [
    {
     "data": {
      "image/png": "[encoded data removed]",
      "text/plain": [
       "<Figure size 432x288 with 1 Axes>"
      ]
     },
     "metadata": {
      "needs_background": "light"
     },
     "output_type": "display_data"
    }
   ],
   "source": [
    "sns.lineplot(data = final_data_1, x = 'Manager Emp ID', y = 'Number of Reportee').set(title = 'All reportee charts')\n",
    "plt.show()"
   ]
  },
  {
   "cell_type": "code",
   "execution_count": 58,
   "id": "ad40f9ac",
   "metadata": {},
   "outputs": [
    {
     "data": {
      "image/png": "[encoded data removed]",
      "text/plain": [
       "<Figure size 432x288 with 1 Axes>"
      ]
     },
     "metadata": {},
     "output_type": "display_data"
    }
   ],
   "source": [
    "# Seaborn's pie chart may give a better visual understanding to the data\n",
    "\n",
    "data = [3, 3, 4]\n",
    "labels = ['Manger EMP 7', 'Manger EMP 8', 'Manger EMP 9']\n",
    "\n",
    "#Stting Seaborn color palette to use\n",
    "colors = sns.color_palette('bright')[0:3]\n",
    "\n",
    "# exploding the Manager EMP ID handling most reportee pie\n",
    "explode = [0, 0, 0.2]\n",
    "# define Seaborn color palette to use\n",
    "palette_color = sns.color_palette('dark')\n",
    "\n",
    "# Seaborn main code\n",
    "plt.pie(data, labels = labels, colors = colors, autopct='%.0f%%', explode = explode)\n",
    "plt.show()"
   ]
  },
  {
   "cell_type": "markdown",
   "id": "2e131b87",
   "metadata": {},
   "source": [
    "### Charts for data_2"
   ]
  },
  {
   "cell_type": "code",
   "execution_count": 63,
   "id": "0b3e5d3f",
   "metadata": {},
   "outputs": [
    {
     "data": {
      "image/png": "[encoded data removed]",
      "text/plain": [
       "<Figure size 432x288 with 1 Axes>"
      ]
     },
     "metadata": {
      "needs_background": "light"
     },
     "output_type": "display_data"
    }
   ],
   "source": [
    "sns.lineplot(data = final_data_2, x = 'Manager Emp ID', y = 'Number of Reportee').set(title = 'direct reportee charts')\n",
    "plt.show()"
   ]
  },
  {
   "cell_type": "code",
   "execution_count": 64,
   "id": "14c29b25",
   "metadata": {},
   "outputs": [
    {
     "data": {
      "image/png": "[encoded data removed]",
      "text/plain": [
       "<Figure size 432x288 with 1 Axes>"
      ]
     },
     "metadata": {},
     "output_type": "display_data"
    }
   ],
   "source": [
    "# Seaborn's pie chart may give a better visual understanding to the data\n",
    "\n",
    "data = [3, 3, 2]\n",
    "labels = ['Manger EMP 7', 'Manger EMP 8', 'Manger EMP 9']\n",
    "\n",
    "#Stting Seaborn color palette to use\n",
    "colors = sns.color_palette('bright')[0:3]\n",
    "\n",
    "# exploding the Manager EMP ID handling most reportee pie\n",
    "explode = [0.1, 0.1, 0]\n",
    "# define Seaborn color palette to use\n",
    "palette_color = sns.color_palette('dark')\n",
    "\n",
    "# Seaborn main code\n",
    "plt.pie(data, labels = labels, colors = colors, autopct='%.0f%%', explode = explode)\n",
    "plt.show()"
   ]
  },
  {
   "cell_type": "code",
   "execution_count": null,
   "id": "b306df4d",
   "metadata": {},
   "outputs": [],
   "source": []
  }
 ],
 "metadata": {
  "kernelspec": {
   "display_name": "Python 3 (ipykernel)",
   "language": "python",
   "name": "python3"
  },
  "language_info": {
   "codemirror_mode": {
    "name": "ipython",
    "version": 3
   },
   "file_extension": ".py",
   "mimetype": "text/x-python",
   "name": "python",
   "nbconvert_exporter": "python",
   "pygments_lexer": "ipython3",
   "version": "3.10.4"
  }
 },
 "nbformat": 4,
 "nbformat_minor": 5
}
